{
 "cells": [
  {
   "cell_type": "markdown",
   "id": "bc83efe2-eca6-4100-9424-8a4146bfb84e",
   "metadata": {},
   "source": [
    "\n",
    "## Imports"
   ]
  },
  {
   "cell_type": "code",
   "execution_count": null,
   "id": "6df87f20-bb35-4108-824a-bc358a0e3632",
   "metadata": {
    "tags": []
   },
   "outputs": [],
   "source": [
    "import pandas as pd\n",
    "import numpy as np\n",
    "import posixpath\n",
    "from data_mining_project import preprocessing, data, OUTPUT_PATH"
   ]
  },
  {
   "cell_type": "markdown",
   "id": "d37662cd-8c89-472e-be64-000394ca1855",
   "metadata": {},
   "source": [
    "## Load Data"
   ]
  },
  {
   "cell_type": "code",
   "execution_count": null,
   "id": "e8ec4008-da13-4447-833f-1e6e628459ff",
   "metadata": {
    "tags": []
   },
   "outputs": [],
   "source": [
    "file_name = \"preprocessed_data.csv\"  \n",
    "filepath = posixpath.join(OUTPUT_PATH, file_name)\n",
    "data_df = data.load_data_csv(filepath)"
   ]
  },
  {
   "cell_type": "code",
   "execution_count": null,
   "id": "21309f65-6d1a-4f39-89b9-34a79f76d6c8",
   "metadata": {
    "tags": []
   },
   "outputs": [],
   "source": [
    "data_df"
   ]
  },
  {
   "cell_type": "code",
   "execution_count": null,
   "id": "e8bca180-2027-4b4e-af5c-b14034d0e1b6",
   "metadata": {
    "tags": []
   },
   "outputs": [],
   "source": [
    "data_df = data_reformat_str_to_list(data_df, cols=[\"events_sequence\", \"seconds_to_incident_sequence\", \"dj_ac_state_sequence\", \"dj_dc_state_sequence\"], col_type=int)\n",
    "data_df = data_reformat_str_to_list(data_df, cols=[\"train_kph_sequence\"], col_type=float)\n",
    "data_df"
   ]
  },
  {
   "cell_type": "code",
   "execution_count": null,
   "id": "49ad21d0-728b-46f0-8039-e89f0dcc4fbf",
   "metadata": {
    "tags": []
   },
   "outputs": [],
   "source": [
    "data_align = data_df[[\"events_sequence\", \"incident_type\"]]"
   ]
  },
  {
   "cell_type": "code",
   "execution_count": null,
   "id": "fef910dd-56d6-4f07-a86f-5e30f8846536",
   "metadata": {
    "tags": []
   },
   "outputs": [],
   "source": [
    "data_align.head()"
   ]
  },
  {
   "cell_type": "code",
   "execution_count": null,
   "id": "e6bc6169-9bb0-4562-9f86-b096dc76e0a3",
   "metadata": {
    "tags": []
   },
   "outputs": [],
   "source": [
    "data_align_use = data_align.copy()"
   ]
  },
  {
   "cell_type": "code",
   "execution_count": null,
   "id": "f030a762-0050-4e4c-8dbb-c3ef5cef9351",
   "metadata": {
    "tags": []
   },
   "outputs": [],
   "source": [
    "data_align_use"
   ]
  },
  {
   "cell_type": "code",
   "execution_count": null,
   "id": "367cc126-4633-42f3-a01c-5a5384f35a70",
   "metadata": {
    "tags": []
   },
   "outputs": [],
   "source": [
    "data_align_use['events_sequence'] = data_align['events_sequence'].apply(lambda x: list(map(str, x)))"
   ]
  },
  {
   "cell_type": "code",
   "execution_count": null,
   "id": "70520eaf-6d72-4077-be65-ab9420fd274d",
   "metadata": {
    "tags": []
   },
   "outputs": [],
   "source": [
    "data_align_use.head()"
   ]
  },
  {
   "cell_type": "code",
   "execution_count": null,
   "id": "218a4c56-4d45-4ea1-a0c6-35cb678f4dd4",
   "metadata": {
    "tags": []
   },
   "outputs": [],
   "source": [
    "data_align_use.at[0, 'events_sequence'][:10]"
   ]
  },
  {
   "cell_type": "code",
   "execution_count": null,
   "id": "54a40076-761d-425e-ac40-268b99a62b96",
   "metadata": {
    "tags": []
   },
   "outputs": [],
   "source": [
    "unique_values_in_incendent_type = set(data_align_use['incident_type'].unique())"
   ]
  },
  {
   "cell_type": "code",
   "execution_count": null,
   "id": "fc16f83d-54c6-43d3-875c-3c267ab0bfff",
   "metadata": {
    "tags": []
   },
   "outputs": [],
   "source": [
    "unique_values_in_incendent_type"
   ]
  },
  {
   "cell_type": "code",
   "execution_count": null,
   "id": "2b3d976c-5fa5-4590-ba0e-7ca89f481a68",
   "metadata": {
    "tags": []
   },
   "outputs": [],
   "source": [
    "data_align_incident_2 = data_align_use[data_align_use['incident_type'] == 2].copy().reset_index(drop=True)"
   ]
  },
  {
   "cell_type": "code",
   "execution_count": null,
   "id": "d0a7a0a0-12da-47df-bc89-4caa8e58b84f",
   "metadata": {
    "tags": []
   },
   "outputs": [],
   "source": [
    "data_align_incident_2"
   ]
  },
  {
   "cell_type": "code",
   "execution_count": null,
   "id": "33c3f648-9831-4173-8d23-bb432e5191b5",
   "metadata": {
    "tags": []
   },
   "outputs": [],
   "source": [
    "data_align_incident_2['events_sequence'][118][:10]"
   ]
  },
  {
   "cell_type": "code",
   "execution_count": null,
   "id": "d3a6815d-201d-49aa-82e8-e3e2b7136e5f",
   "metadata": {
    "tags": []
   },
   "outputs": [],
   "source": [
    "len(data_align_incident_2)"
   ]
  },
  {
   "cell_type": "code",
   "execution_count": null,
   "id": "3ac2fb09-29a4-4153-a71c-3f7c72b9a0fd",
   "metadata": {
    "tags": []
   },
   "outputs": [],
   "source": [
    "data_align_incident_3 = data_align_use[data_align_use['incident_type'] == 3].copy().reset_index(drop=True)"
   ]
  },
  {
   "cell_type": "code",
   "execution_count": null,
   "id": "6963778c-27dd-4c2e-85dc-f85466009fa5",
   "metadata": {
    "tags": []
   },
   "outputs": [],
   "source": [
    "len(data_align_incident_3)"
   ]
  },
  {
   "cell_type": "code",
   "execution_count": null,
   "id": "5d7bfd66-411d-41e8-8bad-98b7506d28fc",
   "metadata": {
    "tags": []
   },
   "outputs": [],
   "source": [
    "dico_for_alignment = dict()\n",
    "for inc_type in unique_values_in_incendent_type:\n",
    "    print(inc_type)\n",
    "    data_align_per_incident = data_align_use[data_align_use['incident_type'] == inc_type].copy().reset_index(drop=True)\n",
    "    print(data_align_per_incident.head())\n",
    "    ls_event_list = []\n",
    "    print(len(data_align_per_incident))\n",
    "    for i in range(len(data_align_per_incident)):\n",
    "        ls_event_list.append(data_align_per_incident['events_sequence'][i])\n",
    "    dico_for_alignment[inc_type] = ls_event_list"
   ]
  },
  {
   "cell_type": "code",
   "execution_count": null,
   "id": "6a7787d6-f009-46f0-ac61-c687155000d5",
   "metadata": {
    "tags": []
   },
   "outputs": [],
   "source": [
    "len(dico_for_alignment[3])"
   ]
  },
  {
   "cell_type": "markdown",
   "id": "e79ae353-77b1-469f-aeb2-3551ee0ac7c2",
   "metadata": {},
   "source": [
    "Code for local alignment"
   ]
  },
  {
   "cell_type": "code",
   "execution_count": null,
   "id": "ac17d394-7dc0-4960-915c-89cdd5d745f9",
   "metadata": {
    "tags": []
   },
   "outputs": [],
   "source": [
    "# Implementing the Smith Waterman local alignment, changed a little using the paper: \n",
    "#Okada, D., Ino, F. & Hagihara, K. Accelerating the Smith-Waterman algorithm with interpair pruning and band optimization for the all-pairs comparison of base sequences. BMC Bioinformatics 16, 321 (2015). https://doi.org/10.1186/s12859-015-0744-4\n",
    "\n",
    "import numpy as np\n",
    "\n",
    "def smith_waterman(seq1, seq2): #Seq1 and seq2 are list of strings.\n",
    "    #Gap penalty, match and mistmatch score\n",
    "    #For simplicity, the gap score is constant for each gap of length 1 created (not affine as in the paper)\n",
    "    #For simplicity, alpha is 1 and beta is -1. Creating a gap and having a mismatch have the same weight.\n",
    "    gap_penalty = 0\n",
    "    match = 1\n",
    "    mismatch = -1\n",
    "    \n",
    "    # Generating the empty matrices for storing scores and tracing\n",
    "    row = len(seq1) + 1 #first sequence in row => row[1] is 1st element of seq1\n",
    "    col = len(seq2) + 1 #first sequence in column => col[1] is 1st element of seq2\n",
    "    matrix_filling = np.zeros(shape=(row, col), dtype=np.int64)  \n",
    "    matrix_tracing = np.zeros(shape=(row, col), dtype=np.int64)  \n",
    "    \n",
    "    # Initialising the variables to find the highest scoring cell\n",
    "    max_score = -1\n",
    "    max_index = (-1, -1)\n",
    "    \n",
    "    \n",
    "    # Calculating the scores for all cells in the matrix\n",
    "    for i in range(1, row):\n",
    "        for j in range(1, col):\n",
    "            # Calculating the diagonal score (match score)\n",
    "            if seq1[i - 1] == seq2[j - 1]:\n",
    "                S = match\n",
    "            else:\n",
    "                S = mismatch\n",
    "                \n",
    "            H = matrix_filling[i - 1, j - 1] + S\n",
    "            \n",
    "            # Calculating the vertical gap score\n",
    "            F = matrix_filling[i - 1, j] + gap_penalty\n",
    "            \n",
    "            # Calculating the horizontal gap score\n",
    "            E = matrix_filling[i, j - 1] + gap_penalty\n",
    "            \n",
    "            # Taking the highest score \n",
    "            matrix_filling[i, j] = max(0, H, F, E)\n",
    "            \n",
    "            # Tracking where the cell's value is coming from    \n",
    "            if matrix_filling[i, j] == 0: \n",
    "                matrix_tracing[i, j] = 0\n",
    "                \n",
    "            elif matrix_filling[i, j] == E: \n",
    "                matrix_tracing[i, j] = 1 #meaning came from left\n",
    "                \n",
    "            elif matrix_filling[i, j] == F: \n",
    "                matrix_tracing[i, j] = 2 # meaning came from up\n",
    "                \n",
    "            elif matrix_filling[i, j] == H: \n",
    "                matrix_tracing[i, j] = 3 #meaning came from upper diagonal\n",
    "                \n",
    "            # Tracking the cell with the maximum score\n",
    "            if matrix_filling[i, j] >= max_score:\n",
    "                max_index = (i,j)\n",
    "                max_score = matrix_filling[i, j]\n",
    "    \n",
    "    # Initialising the variables for tracing\n",
    "    aligned_seq1 = []\n",
    "    aligned_seq2 = [] \n",
    "    current_aligned_seq1 = \"\"  \n",
    "    current_aligned_seq2 = \"\" \n",
    "    (max_i, max_j) = max_index #same the index of where the max score is (in the filling matrix)\n",
    "    #print(max_score)\n",
    "    #print(max_index)\n",
    "    #print(matrix_filling)\n",
    "    #print(matrix_tracing)\n",
    "    \n",
    "    # Tracing and computing the pathway with the local alignment\n",
    "    while matrix_tracing[max_i, max_j] != 0:\n",
    "        if matrix_tracing[max_i, max_j] == 3:\n",
    "            current_aligned_seq1 = seq1[max_i - 1]\n",
    "            current_aligned_seq2 = seq2[max_j - 1]\n",
    "            max_i = max_i - 1\n",
    "            max_j = max_j - 1\n",
    "            \n",
    "        elif matrix_tracing[max_i, max_j] == 2:\n",
    "            current_aligned_seq1 = seq1[max_i - 1]\n",
    "            current_aligned_seq2 = '-'\n",
    "            max_i = max_i - 1    \n",
    "            \n",
    "        elif matrix_tracing[max_i, max_j] == 1:\n",
    "            current_aligned_seq1 = '-'\n",
    "            current_aligned_seq2 = seq2[max_j - 1]\n",
    "            max_j = max_j - 1\n",
    "            \n",
    "        aligned_seq1.append(current_aligned_seq1)\n",
    "        aligned_seq2.append(current_aligned_seq2)\n",
    "    \n",
    "    # Reversing the order of the sequences\n",
    "    aligned_seq1.reverse()\n",
    "    aligned_seq2.reverse()\n",
    "    \n",
    "    return aligned_seq1, aligned_seq2"
   ]
  },
  {
   "cell_type": "code",
   "execution_count": null,
   "id": "4beae83e-13b2-4e54-81c0-b92eeb0b0cc8",
   "metadata": {
    "tags": []
   },
   "outputs": [],
   "source": [
    "def sequence_in_common(seq1, seq2):\n",
    "    if len(seq1) != len(seq2):\n",
    "        print(\"The sequences are not the same size!!\")\n",
    "    else:\n",
    "        seq_in_com = []\n",
    "        for i in range(len(seq1)):\n",
    "            if seq1[i]==seq2[i]:\n",
    "                seq_in_com.append(seq1[i])\n",
    "    return seq_in_com, len(seq_in_com)"
   ]
  },
  {
   "cell_type": "code",
   "execution_count": null,
   "id": "103b7ea3-d418-411c-83c5-7ef1704209b7",
   "metadata": {
    "tags": []
   },
   "outputs": [],
   "source": [
    "def seq_com_comparison(seq1, seq2):\n",
    "    seq_a_1, seq_a_2 = smith_waterman(seq1, seq2)\n",
    "    seq_com, score = sequence_in_common(seq_a_1, seq_a_2)\n",
    "    return seq_com, score"
   ]
  },
  {
   "cell_type": "code",
   "execution_count": null,
   "id": "20c9b1b5-49b6-4467-a514-f360790eb10f",
   "metadata": {
    "tags": []
   },
   "outputs": [],
   "source": [
    "#Function for multiple sequence alignment\n",
    "import math\n",
    "\n",
    "#To be used within each incident class type\n",
    "def multiple_sequence_alignment(list_seqs):\n",
    "    ls_sorted_seqs = sorted(list_seqs, key=len) #sorts sequences to align by decreasing order: longuest sequence is ls_sorted_seqs[0]\n",
    "    seq1 = ls_sorted_seqs.pop(0)\n",
    "    seqs_score = math.inf\n",
    "    for seq2 in ls_sorted_seqs:\n",
    "        seq_com, score = seq_com_comparison(seq1, seq2)\n",
    "        if score < seqs_score:\n",
    "            seqs_score = score\n",
    "        seq1 = seq_com\n",
    "    return (seq_com, score) "
   ]
  },
  {
   "cell_type": "code",
   "execution_count": null,
   "id": "9d6c6ae0-f463-4852-bb03-b8eb1ebfa2bf",
   "metadata": {
    "tags": []
   },
   "outputs": [],
   "source": [
    "multiple_sequence_alignment([list('abdjjjjjjjjjce'), list('abkkkkkkkkkkkkkkkkkkdee'), list('lllllllllabde')])"
   ]
  },
  {
   "cell_type": "code",
   "execution_count": null,
   "id": "a497d449-3834-4b6d-853d-bf6cb4032000",
   "metadata": {
    "tags": []
   },
   "outputs": [],
   "source": [
    "for key in dico_for_alignment.keys():\n",
    "    print(key, len(dico_for_alignment[key]))"
   ]
  },
  {
   "cell_type": "code",
   "execution_count": null,
   "id": "f9d20292-8c90-4567-bacf-944e3c133602",
   "metadata": {
    "tags": []
   },
   "outputs": [],
   "source": [
    "dico_seq_align_per_incident = dict()\n",
    "for key in dico_for_alignment.keys():\n",
    "    seq_com, score = multiple_sequence_alignment(dico_for_alignment[key])\n",
    "    dico_seq_align_per_incident[key] = (seq_com, score)"
   ]
  },
  {
   "cell_type": "code",
   "execution_count": null,
   "id": "0d9179ab-45f2-4b1f-a868-ae11af50bacb",
   "metadata": {
    "tags": []
   },
   "outputs": [],
   "source": [
    "dico_seq_align_per_incident"
   ]
  },
  {
   "cell_type": "code",
   "execution_count": null,
   "id": "71b0bc7c-c7d5-4bb4-8682-0a3bb611ea01",
   "metadata": {
    "tags": []
   },
   "outputs": [],
   "source": [
    "dico_seq_align_per_incident_2 = dict()\n",
    "for key in dico_for_alignment.keys():\n",
    "    seq_com, score = multiple_sequence_alignment(dico_for_alignment[key])\n",
    "    dico_seq_align_per_incident_2[key] = (seq_com, score)"
   ]
  },
  {
   "cell_type": "code",
   "execution_count": null,
   "id": "2a9719f6-5b6d-462e-acac-e29457b68c9a",
   "metadata": {
    "tags": []
   },
   "outputs": [],
   "source": [
    "dico_seq_align_per_incident_2"
   ]
  },
  {
   "cell_type": "code",
   "execution_count": null,
   "id": "31859fe0-58c0-4041-a365-e8995f0051f4",
   "metadata": {
    "tags": []
   },
   "outputs": [],
   "source": [
    "dico_seq_align_per_incident_test = dict()\n",
    "for key in dico_for_alignment.keys():\n",
    "    seq_com, score = multiple_sequence_alignment(dico_for_alignment[key])\n",
    "    dico_seq_align_per_incident_test[key] = (seq_com, score)\n",
    "dico_seq_align_per_incident_test"
   ]
  },
  {
   "cell_type": "code",
   "execution_count": null,
   "id": "389be72d-4f1e-4fde-b65f-06243607162e",
   "metadata": {
    "tags": []
   },
   "outputs": [],
   "source": [
    "len(dico_seq_align_per_incident_test[3][0])"
   ]
  },
  {
   "cell_type": "code",
   "execution_count": null,
   "id": "73f43aa3-a931-4d1b-8516-84e22c444ee3",
   "metadata": {
    "tags": []
   },
   "outputs": [],
   "source": [
    "for key in dico_seq_align_per_incident_test.keys():\n",
    "    print(key)"
   ]
  },
  {
   "cell_type": "markdown",
   "id": "17314729-ae13-4ba8-a4d6-dc71d9e12ed8",
   "metadata": {},
   "source": [
    "1) Test if all ceq in common actually in the sequences! DONE\n",
    "3) Test with a higher threshold: min number elements equal 15\n",
    "2) Check if the sequence in common in or not sequences of other incident types!"
   ]
  },
  {
   "cell_type": "code",
   "execution_count": null,
   "id": "2fcc43de-01e5-43ea-bca8-981d275d1903",
   "metadata": {
    "tags": []
   },
   "outputs": [],
   "source": [
    "#To check that the algo works: the sequence in common is actually present in all sequences of the same incident type\n",
    "import numpy as np\n",
    "\n",
    "dico_actually_subsequence = dict()\n",
    "for key in dico_seq_align_per_incident_test.keys():\n",
    "    ls_in_com = dico_seq_align_per_incident_test[key][0]\n",
    "    ls_seq_acc = dico_for_alignment[key]\n",
    "    ls_in_bool = []\n",
    "    for i in range(len(ls_seq_acc)):\n",
    "        ls_in = np.isin(ls_in_com, ls_seq_acc[i])\n",
    "        ls_in_bool.append(ls_in)\n",
    "    bool_in = np.isin([False], ls_in_bool)\n",
    "    if bool_in[0] == False:\n",
    "        dico_actually_subsequence[key] = True\n",
    "    else: \n",
    "        dico_actually_subsequence[key] = ls_in_bool\n",
    "\n",
    "dico_actually_subsequence"
   ]
  },
  {
   "cell_type": "code",
   "execution_count": null,
   "id": "f28a60a4-f1e8-448a-a530-6007f1d591ad",
   "metadata": {
    "tags": []
   },
   "outputs": [],
   "source": [
    "#Check if the common sequence of on idnicent type is present in other incident type\n",
    "dict_occurences_seq_common_in_other_inc = dict()\n",
    "for k in dico_seq_align_per_incident_test.keys():\n",
    "    ls_com = dico_seq_align_per_incident_test[k][0]\n",
    "    if ls_com == []:\n",
    "        dict_occurences_seq_common_in_other_inc[k] = \"This incident type doesn't have a common sequence\"\n",
    "    else:\n",
    "        dico_seq_com_key_present_other_inc = dict()\n",
    "        ls_incident_types = list(dico_seq_align_per_incident_test.keys())\n",
    "        for inc_type in ls_incident_types:\n",
    "            ls_seqs_other_inc = dico_for_alignment[inc_type] #list of sequences in incident type \"inc_type\"\n",
    "            ls_in_bool = []\n",
    "            for i in range(len(ls_seqs_other_inc)):\n",
    "                ls_in = np.isin(ls_com, ls_seqs_other_inc[i]) #All true if ls_com_3 in ls_seqs_other_inc[i] OR with some false if some elements of ls_com_3 are in ls_seqs_other_inc[i]\n",
    "                bool_in = np.isin([False], ls_in)#Returns False in only true in ls_in / returns True if a false is present in ls_in\n",
    "                if bool_in[0] == False:\n",
    "                    ls_in_bool.append(1) #1 => Seq_com_3 is present in the sequence\n",
    "                else:\n",
    "                    ls_in_bool.append(0) #0 => Seq_com_3 IS NOT present in the sequence\n",
    "            sum_occ = sum(ls_in_bool)\n",
    "            nb_seq = len(ls_in_bool)\n",
    "            dico_seq_com_key_present_other_inc[inc_type] = (nb_seq, sum_occ)\n",
    "        dict_occurences_seq_common_in_other_inc[k] = dico_seq_com_key_present_other_inc\n",
    "\n",
    "\n",
    "#dico_seq_com_keu_present_other_inc[inc_type] = ls_in_bool\n",
    " #       dico_count_number_occ = dict()\n",
    "  #      for key in dico_seq_com_3_present_other_inc.keys():\n",
    "   #         ls = dico_seq_com_3_present_other_inc[key]\n",
    "    #        sum_occ = sum(ls)\n",
    "     #       nb_seq = len(ls)\n",
    "\n"
   ]
  },
  {
   "cell_type": "code",
   "execution_count": null,
   "id": "feed2af5-b10d-4248-89fa-1c2c244df8a9",
   "metadata": {
    "tags": []
   },
   "outputs": [],
   "source": [
    "dict_occurences_seq_common_in_other_inc"
   ]
  },
  {
   "cell_type": "code",
   "execution_count": null,
   "id": "93a632ec-e032-47c7-8620-41f85b2de3e6",
   "metadata": {
    "tags": []
   },
   "outputs": [],
   "source": [
    "#Analysis for incident type 3:\n",
    "ls_incidents = list(dict_occurences_seq_common_in_other_inc[3].keys())\n",
    "ls_ratio = []\n",
    "for inc_type in ls_incidents:\n",
    "    nb, nb_occ = dict_occurences_seq_common_in_other_inc[3][inc_type]\n",
    "    ls_ratio.append(nb_occ/nb)\n",
    "\n",
    "import matplotlib.pyplot as plt\n",
    "\n",
    "x_positions = np.arange(len(ls_incidents))\n",
    "\n",
    "# Create the histogram\n",
    "plt.figure(figsize=(8, 6))\n",
    "plt.bar(x_positions, ls_ratio, color='skyblue', width=0.6, edgecolor='black')\n",
    "\n",
    "plt.axhline(y=0.5, color='r')\n",
    "\n",
    "plt.xticks(x_positions, ls_incidents)\n",
    "\n",
    "# Add titles and labels\n",
    "plt.title('Histogram of the ratio of the number of times the common sequence of incident type 3 (of length 25) \\n appears in the event sequences of other incident types', fontsize=14)\n",
    "plt.xlabel('Incident type', fontsize=12)\n",
    "plt.ylabel('Ratios for each incident type', fontsize = 12)\n",
    "\n",
    "\n",
    "# Display the plot\n",
    "plt.show()"
   ]
  },
  {
   "cell_type": "code",
   "execution_count": null,
   "id": "693e199d-95e3-4f47-a846-4159db05a9f3",
   "metadata": {
    "tags": []
   },
   "outputs": [],
   "source": [
    "#Analysis for incident type 6:\n",
    "ls_incidents = list(dict_occurences_seq_common_in_other_inc[6].keys())\n",
    "ls_ratio = []\n",
    "for inc_type in ls_incidents:\n",
    "    nb, nb_occ = dict_occurences_seq_common_in_other_inc[6][inc_type]\n",
    "    ls_ratio.append(nb_occ/nb)\n",
    "\n",
    "import matplotlib.pyplot as plt\n",
    "\n",
    "x_positions = np.arange(len(ls_incidents))\n",
    "\n",
    "# Create the histogram\n",
    "plt.figure(figsize=(8, 6))\n",
    "plt.bar(x_positions, ls_ratio, color='skyblue', width=0.6, edgecolor='black')\n",
    "\n",
    "plt.axhline(y=0.5, color='r')\n",
    "\n",
    "plt.xticks(x_positions, ls_incidents)\n",
    "\n",
    "# Add titles and labels\n",
    "plt.title('Histogram of the ratio of the number of times the common sequence of incident type 6 (of length 12) \\n appears in the event sequences of other incident types', fontsize=14)\n",
    "plt.xlabel('Incident type', fontsize=12)\n",
    "plt.ylabel('Ratios for each incident type', fontsize = 12)\n",
    "\n",
    "\n",
    "# Display the plot\n",
    "plt.show()"
   ]
  },
  {
   "cell_type": "code",
   "execution_count": null,
   "id": "c429d7f8-bd68-4770-8715-7a6c3c28ed0c",
   "metadata": {
    "tags": []
   },
   "outputs": [],
   "source": [
    "#Analysis for incident type 7:\n",
    "ls_incidents = list(dict_occurences_seq_common_in_other_inc[7].keys())\n",
    "ls_ratio = []\n",
    "for inc_type in ls_incidents:\n",
    "    nb, nb_occ = dict_occurences_seq_common_in_other_inc[7][inc_type]\n",
    "    ls_ratio.append(nb_occ/nb)\n",
    "\n",
    "import matplotlib.pyplot as plt\n",
    "\n",
    "x_positions = np.arange(len(ls_incidents))\n",
    "\n",
    "# Create the histogram\n",
    "plt.figure(figsize=(8, 6))\n",
    "plt.bar(x_positions, ls_ratio, color='skyblue', width=0.6, edgecolor='black')\n",
    "\n",
    "plt.axhline(y=0.5, color='r')\n",
    "plt.axhline(y=1, color='r')\n",
    "\n",
    "plt.xticks(x_positions, ls_incidents)\n",
    "\n",
    "# Add titles and labels\n",
    "plt.title('Histogram of the ratio of the number of times the common sequence of incident type 7 (of length 7) \\n appears in the event sequences of other incident types', fontsize=14)\n",
    "plt.xlabel('Incident type', fontsize=12)\n",
    "plt.ylabel('Ratios for each incident type', fontsize = 12)\n",
    "\n",
    "\n",
    "# Display the plot\n",
    "plt.show()"
   ]
  },
  {
   "cell_type": "code",
   "execution_count": null,
   "id": "72e2505d-c66a-4e47-9576-a6a597988a38",
   "metadata": {
    "tags": []
   },
   "outputs": [],
   "source": [
    "#Analysis for incident type 11:\n",
    "ls_incidents = list(dict_occurences_seq_common_in_other_inc[11].keys())\n",
    "ls_ratio = []\n",
    "for inc_type in ls_incidents:\n",
    "    nb, nb_occ = dict_occurences_seq_common_in_other_inc[11][inc_type]\n",
    "    ls_ratio.append(nb_occ/nb)\n",
    "\n",
    "import matplotlib.pyplot as plt\n",
    "\n",
    "x_positions = np.arange(len(ls_incidents))\n",
    "\n",
    "# Create the histogram\n",
    "plt.figure(figsize=(8, 6))\n",
    "plt.bar(x_positions, ls_ratio, color='skyblue', width=0.6, edgecolor='black')\n",
    "\n",
    "plt.axhline(y=0.5, color='r')\n",
    "plt.axhline(y=1, color='r')\n",
    "\n",
    "plt.xticks(x_positions, ls_incidents)\n",
    "\n",
    "# Add titles and labels\n",
    "plt.title('Histogram of the ratio of the number of times the common sequence of incident type 11 (of length 1) \\n appears in the event sequences of other incident types', fontsize=14)\n",
    "plt.xlabel('Incident type', fontsize=12)\n",
    "plt.ylabel('Ratios for each incident type', fontsize = 12)\n",
    "\n",
    "\n",
    "# Display the plot\n",
    "plt.show()"
   ]
  },
  {
   "cell_type": "code",
   "execution_count": null,
   "id": "af45a2b7-5bdc-4b10-9204-84f10d1a2f47",
   "metadata": {
    "tags": []
   },
   "outputs": [],
   "source": [
    "#Analysis for incident type 16:\n",
    "ls_incidents = list(dict_occurences_seq_common_in_other_inc[16].keys())\n",
    "ls_ratio = []\n",
    "for inc_type in ls_incidents:\n",
    "    nb, nb_occ = dict_occurences_seq_common_in_other_inc[16][inc_type]\n",
    "    ls_ratio.append(nb_occ/nb)\n",
    "\n",
    "import matplotlib.pyplot as plt\n",
    "\n",
    "x_positions = np.arange(len(ls_incidents))\n",
    "\n",
    "# Create the histogram\n",
    "plt.figure(figsize=(8, 6))\n",
    "plt.bar(x_positions, ls_ratio, color='skyblue', width=0.6, edgecolor='black')\n",
    "\n",
    "plt.axhline(y=0.5, color='r')\n",
    "plt.axhline(y=1, color='r')\n",
    "\n",
    "plt.xticks(x_positions, ls_incidents)\n",
    "\n",
    "# Add titles and labels\n",
    "plt.title('Histogram of the ratio of the number of times the common sequence of incident type 16 (of length 3) \\n appears in the event sequences of other incident types', fontsize=14)\n",
    "plt.xlabel('Incident type', fontsize=12)\n",
    "plt.ylabel('Ratios for each incident type', fontsize = 12)\n",
    "\n",
    "\n",
    "# Display the plot\n",
    "plt.show()"
   ]
  },
  {
   "cell_type": "code",
   "execution_count": null,
   "id": "7dab7564-5020-4376-bcf9-00650e28fe1f",
   "metadata": {
    "tags": []
   },
   "outputs": [],
   "source": [
    "#Analysis for incident type 17:\n",
    "ls_incidents = list(dict_occurences_seq_common_in_other_inc[17].keys())\n",
    "ls_ratio = []\n",
    "for inc_type in ls_incidents:\n",
    "    nb, nb_occ = dict_occurences_seq_common_in_other_inc[17][inc_type]\n",
    "    ls_ratio.append(nb_occ/nb)\n",
    "\n",
    "import matplotlib.pyplot as plt\n",
    "\n",
    "x_positions = np.arange(len(ls_incidents))\n",
    "\n",
    "# Create the histogram\n",
    "plt.figure(figsize=(8, 6))\n",
    "plt.bar(x_positions, ls_ratio, color='skyblue', width=0.6, edgecolor='black')\n",
    "\n",
    "plt.axhline(y=0.5, color='r')\n",
    "plt.axhline(y=1, color='r')\n",
    "\n",
    "plt.xticks(x_positions, ls_incidents)\n",
    "\n",
    "# Add titles and labels\n",
    "plt.title('Histogram of the ratio of the number of times the common sequence of incident type 17 (of length 3) \\n appears in the event sequences of other incident types', fontsize=14)\n",
    "plt.xlabel('Incident type', fontsize=12)\n",
    "plt.ylabel('Ratios for each incident type', fontsize = 12)\n",
    "\n",
    "\n",
    "# Display the plot\n",
    "plt.show()"
   ]
  },
  {
   "cell_type": "code",
   "execution_count": null,
   "id": "19ed91c0-bc18-4fe6-a162-d96f381538b7",
   "metadata": {
    "tags": []
   },
   "outputs": [],
   "source": [
    "dico_len_seq_com = dict()\n",
    "for inc_type in dico_seq_align_per_incident_test.keys():\n",
    "    dico_len_seq_com[inc_type] = dico_seq_align_per_incident_test[inc_type][1]\n",
    "dico_len_seq_com   "
   ]
  },
  {
   "cell_type": "code",
   "execution_count": null,
   "id": "6bc99179-8c19-4a2d-b7fa-f82ef91bb84f",
   "metadata": {
    "tags": []
   },
   "outputs": [],
   "source": [
    "dico_seq_align_per_incident_test[2][1]"
   ]
  },
  {
   "cell_type": "markdown",
   "id": "4e089dd3-6bbd-4d6c-803b-9c914585d95b",
   "metadata": {},
   "source": [
    "Maybe remove elements that repeat everywhere"
   ]
  },
  {
   "cell_type": "markdown",
   "id": "ff456e36-7e45-4a7c-971e-76e85b33ed47",
   "metadata": {},
   "source": [
    "Check if each smaller sequence in the other events lists of the other classes"
   ]
  }
 ],
 "metadata": {
  "kernelspec": {
   "display_name": "Python 3 (ipykernel)",
   "language": "python",
   "name": "python3"
  },
  "language_info": {
   "codemirror_mode": {
    "name": "ipython",
    "version": 3
   },
   "file_extension": ".py",
   "mimetype": "text/x-python",
   "name": "python",
   "nbconvert_exporter": "python",
   "pygments_lexer": "ipython3",
   "version": "3.12.3"
  }
 },
 "nbformat": 4,
 "nbformat_minor": 5
}
