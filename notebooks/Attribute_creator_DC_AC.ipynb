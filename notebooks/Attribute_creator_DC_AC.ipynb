{
 "cells": [
  {
   "cell_type": "code",
   "execution_count": null,
   "id": "eb5164c8-5d83-4efd-95cf-dcca717077b7",
   "metadata": {},
   "outputs": [],
   "source": [
    "### Si necessaire, function qui change un string en tuple de bool\n",
    "# Function to safely convert a string list to a tuple of integers representing boolean values\n",
    "import ast\n",
    "def str_to_tuple_of_bool(s):\n",
    "    try:\n",
    "        # Use ast.literal_eval() for safe evaluation of the string into a list\n",
    "        return tuple(map(bool, ast.literal_eval(s)))\n",
    "    except Exception as e:\n",
    "        return None  # Return None if conversion fails"
   ]
  },
  {
   "cell_type": "code",
   "execution_count": null,
   "id": "cff14ad1-0bc0-4edc-9539-10ad9dad9824",
   "metadata": {},
   "outputs": [],
   "source": [
    "columns_bool = ['dj_ac_state_sequence', 'dj_dc_state_sequence']"
   ]
  },
  {
   "cell_type": "code",
   "execution_count": null,
   "id": "80d998d3-2f86-4786-993c-b144c8d0e3ec",
   "metadata": {},
   "outputs": [],
   "source": [
    "#pd_sncb_data correspon au nom du data frame pour les donnnées\n",
    "pd_sncb_data[columns_bool] = pd_sncb_data[columns_bool].applymap(str_to_tuple_of_bool)"
   ]
  },
  {
   "cell_type": "code",
   "execution_count": null,
   "id": "987f6609-33d5-497b-a549-35f227752334",
   "metadata": {},
   "outputs": [],
   "source": [
    "# Function to convert a tuple of booleans to a tuple of 0s and 1s\n",
    "def bool_tuple_to_int_tuple(bool_tuple):\n",
    "    return tuple(int(b) for b in bool_tuple)\n",
    "\n",
    "# Apply the function to each cell in the column\n",
    "pd_sncb_data[columns_bool] = pd_sncb_data[columns_bool].applymap(bool_tuple_to_int_tuple)"
   ]
  },
  {
   "cell_type": "code",
   "execution_count": null,
   "id": "1c7da4b6-926c-4f16-b09a-cc6b57482185",
   "metadata": {},
   "outputs": [],
   "source": [
    "### Creation de 3 attributs:\n",
    "# - indicator s'il y avait des problèmes ac, dc: \n",
    "# - nombre de fois qu'il eu un problème\n",
    "# - tuple des \"events\" attachés à ce problème\n",
    "\n",
    "def create_attrs_ac_dc(pd_data):\n",
    "    ls_ac_dc_prob = []\n",
    "    ls_ac_dc_num_prob = []\n",
    "    ls_events_prob =[]\n",
    "    for i in range(len(pd_data)):#loop over the rows of the data frame\n",
    "        counter=0 #counts the problematic occurences in each row\n",
    "        ls_events_prob_i = [] #keeps track of all the events where prob occured\n",
    "        ls_dj_ac_i = pd_data['dj_ac_state_sequence'][i]\n",
    "        ls_dj_dc_i = pd_data['dj_dc_state_sequence'][i]\n",
    "        ls_events_sequence_i = pd_data['events_sequence'][i]\n",
    "        n = len(ls_dj_ac_i)\n",
    "        #print(n)\n",
    "        for j in range(n): #for each state sequence of dj_ac and dj_dc, loop over the it\n",
    "            dj_ac_i_j = ls_dj_ac_i[j]\n",
    "            dj_dc_i_j = ls_dj_dc_i[j]\n",
    "            #print(dj_ac_i_j)\n",
    "            #print(dj_dc_i_j )\n",
    "            if dj_ac_i_j+dj_dc_i_j !=1: #if the sum of the value in dj_ac and in dj_dc sequence is 0 (both off) or 2 (both on) \n",
    "                counter +=1\n",
    "                ls_events_prob_i.append(ls_events_sequence_i[j])\n",
    "        ls_events_prob.append(tuple(ls_events_prob_i))\n",
    "        ls_ac_dc_num_prob.append(counter)\n",
    "        if counter>0:\n",
    "            ls_ac_dc_prob.append(True)\n",
    "        else:\n",
    "            ls_ac_dc_prob.append(False)\n",
    "    pd_data['Ac_Dc_problem_occured']= ls_ac_dc_prob\n",
    "    pd_data['Number_problems_AC_DC']=ls_ac_dc_num_prob\n",
    "    pd_data['Events_problems_AC_DC']=ls_events_prob"
   ]
  }
 ],
 "metadata": {
  "kernelspec": {
   "display_name": "Python 3 (ipykernel)",
   "language": "python",
   "name": "python3"
  },
  "language_info": {
   "codemirror_mode": {
    "name": "ipython",
    "version": 3
   },
   "file_extension": ".py",
   "mimetype": "text/x-python",
   "name": "python",
   "nbconvert_exporter": "python",
   "pygments_lexer": "ipython3",
   "version": "3.11.5"
  }
 },
 "nbformat": 4,
 "nbformat_minor": 5
}
