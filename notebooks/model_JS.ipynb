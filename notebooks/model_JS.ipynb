{
 "cells": [
  {
   "cell_type": "markdown",
   "id": "820a3107-303b-4a11-99dd-3f4f6b83bdc2",
   "metadata": {},
   "source": [
    "# Modified Jaccard Similarity"
   ]
  },
  {
   "cell_type": "markdown",
   "id": "380fa72a-37ee-4ddb-9c68-28bc10ca6782",
   "metadata": {},
   "source": [
    "## Imports"
   ]
  },
  {
   "cell_type": "code",
   "execution_count": null,
   "id": "69d01f2a-b30a-422f-b249-eaa89b9e1dc0",
   "metadata": {},
   "outputs": [],
   "source": [
    "import pandas as pd\n",
    "import posixpath\n",
    "from data_mining_project import data, preprocessing, model_js, validation, PROJECT_PATH, DATA_PATH, OUTPUT_PATH\n",
    "import numpy as np\n",
    "import matplotlib as plt\n",
    "import plotly.express as px\n",
    "import time\n",
    "from sklearn.svm import SVC\n",
    "import seaborn as sns\n",
    "import matplotlib.pyplot as plt\n",
    "\n",
    "%matplotlib inline"
   ]
  },
  {
   "cell_type": "markdown",
   "id": "a1e5948c-492b-4336-b9c6-47f54b737ffd",
   "metadata": {},
   "source": [
    "## Load Data"
   ]
  },
  {
   "cell_type": "code",
   "execution_count": null,
   "id": "39bf17d4-2bad-4e18-b930-12752f8c351a",
   "metadata": {},
   "outputs": [],
   "source": [
    "file_name = \"preprocessed_data.csv\"  \n",
    "file_path = posixpath.join(OUTPUT_PATH, file_name)\n",
    "data_df = data.load_data_csv(file_path)\n",
    "data_df.head(5)"
   ]
  },
  {
   "cell_type": "code",
   "execution_count": null,
   "id": "2035d9a9-b4e5-431a-b71b-9df18f9f5af8",
   "metadata": {},
   "outputs": [],
   "source": [
    "data_df.drop(columns=[\"ac_dc_prob_num\", \"ac_dc_prob\", \"seconds_to_incident_sequence\", \"dj_ac_state_sequence\", \"dj_dc_state_sequence\", \"train_kph_sequence\", \"ac_dc_prob_timestamp\"], inplace=True)\n",
    "data_df = data.reformat_str_to_list(data_df, cols=[\"events_sequence\"], col_type=int)\n",
    "data_df.head(5)"
   ]
  },
  {
   "cell_type": "markdown",
   "id": "5d0a19c9-df71-4581-a9f8-75cb41d02300",
   "metadata": {},
   "source": [
    "## Hyperparametric Tuning\n",
    "### Run the model over different values of t which is the relevance threshold for filtering irrelevant events"
   ]
  },
  {
   "cell_type": "code",
   "execution_count": null,
   "id": "2e349d91-d34d-43d4-90ed-e27d81417e61",
   "metadata": {},
   "outputs": [],
   "source": [
    "ts = np.array([i/10 for i in range(1, 20)])\n",
    "f1_scores = []\n",
    "confusion_matrices = []\n",
    "for i, t in enumerate(ts):\n",
    "    filtered_data_df = preprocessing.filter_irrelevant_events(data_df, t)\n",
    "    filtered_data_df = filtered_data_df[filtered_data_df[\"events_sequence\"].apply(lambda row: preprocessing.remove_short_rows(row, x=2))].reset_index(drop=True)\n",
    "    XY = filtered_data_df.to_numpy()\n",
    "    X = XY[:, :-1]\n",
    "    Y = XY[:, -1]\n",
    "    print(X.shape, Y.shape)\n",
    "    print(f\"relevance threshold: {t}\")\n",
    "    confusion_matrices.append(model_js.loo_js(X, Y))\n",
    "    f1_score, f1_score_per_class = validation.compute_f1_score(confusion_matrices[i]) \n",
    "    print(f\"Average f1_score: {f1_score}\")\n",
    "    f1_scores.append((t, f1_score))\n",
    "    validation.plot_confusion_matrix(confusion_matrices[i], t)\n",
    "\n",
    "f1_scores = np.array(f1_scores)"
   ]
  },
  {
   "cell_type": "markdown",
   "id": "b07e4b9b-2cef-4c3e-9d21-290a9d7e5480",
   "metadata": {},
   "source": [
    "## Plot F1-Scores"
   ]
  },
  {
   "cell_type": "code",
   "execution_count": null,
   "id": "2968ba20-1366-4e1a-90fe-0dac37ff62cf",
   "metadata": {},
   "outputs": [],
   "source": [
    "validation.plot_f1_scores(f1_scores)"
   ]
  }
 ],
 "metadata": {
  "kernelspec": {
   "display_name": "Python 3 (ipykernel)",
   "language": "python",
   "name": "python3"
  },
  "language_info": {
   "codemirror_mode": {
    "name": "ipython",
    "version": 3
   },
   "file_extension": ".py",
   "mimetype": "text/x-python",
   "name": "python",
   "nbconvert_exporter": "python",
   "pygments_lexer": "ipython3",
   "version": "3.12.3"
  }
 },
 "nbformat": 4,
 "nbformat_minor": 5
}
