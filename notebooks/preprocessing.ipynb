{
 "cells": [
  {
   "cell_type": "markdown",
   "id": "08671a88-a2ed-4626-9559-489020c1aca3",
   "metadata": {},
   "source": [
    "# Preprocessing"
   ]
  },
  {
   "cell_type": "markdown",
   "id": "4273819c-233f-4a05-b227-a03ddb2c919b",
   "metadata": {},
   "source": [
    "\n",
    "## Imports"
   ]
  },
  {
   "cell_type": "code",
   "execution_count": null,
   "id": "dc1ca7bf-3b05-429d-b6e0-2dcc26028a37",
   "metadata": {},
   "outputs": [],
   "source": [
    "import pandas as pd\n",
    "import posixpath\n",
    "from data_mining_project import data, preprocessing, DATA_PATH, OUTPUT_PATH\n",
    "import numpy as np\n",
    "import matplotlib as plt\n",
    "import plotly.express as px"
   ]
  },
  {
   "cell_type": "markdown",
   "id": "74b8d810-34f2-40ef-872f-08e283e68442",
   "metadata": {},
   "source": [
    "## Load Data"
   ]
  },
  {
   "cell_type": "code",
   "execution_count": null,
   "id": "f04458b5-3dd9-4ee5-8b3a-1262f18b0ba4",
   "metadata": {},
   "outputs": [],
   "source": [
    "file_name = \"sncb_data_challenge.csv\"  \n",
    "file_path = posixpath.join(DATA_PATH, file_name)\n",
    "data_df = data.load_data_csv(file_path)\n",
    "data_df.head(5)"
   ]
  },
  {
   "cell_type": "code",
   "execution_count": null,
   "id": "408a5357-598c-469e-84e6-de1ee6a44220",
   "metadata": {},
   "outputs": [],
   "source": [
    "data_df = data.reformat_str_to_list(data_df, cols=[\"vehicles_sequence\", \"events_sequence\", \"seconds_to_incident_sequence\", \"dj_ac_state_sequence\", \"dj_dc_state_sequence\"], col_type=int)\n",
    "data_df = data.reformat_str_to_list(data_df, cols=[\"train_kph_sequence\"], col_type=float)\n",
    "data_df.drop(columns=[\"incident_id\", \"Column1\", \"vehicles_sequence\", \"approx_lat\", \"approx_lon\"], inplace=True)\n",
    "data_df.head(5)"
   ]
  },
  {
   "cell_type": "markdown",
   "id": "8ca917e7-2f34-41d0-80a0-b659b9b66b81",
   "metadata": {},
   "source": [
    "## Remove events < 4h before the incident and > 10min after the incident"
   ]
  },
  {
   "cell_type": "code",
   "execution_count": null,
   "id": "5f88cf5e-648c-422b-b3e6-55ffe9a6f7ea",
   "metadata": {
    "scrolled": true
   },
   "outputs": [],
   "source": [
    "interval= [-3600*4, 360]\n",
    "data_df = preprocessing.filter_events_out_of_interval(data_df, interval)\n",
    "data_df.head(5)"
   ]
  },
  {
   "cell_type": "markdown",
   "id": "55f945ff-a7fd-4de0-b1a0-2059f81791a2",
   "metadata": {},
   "source": [
    "## Remove rows shorted than 2 elements"
   ]
  },
  {
   "cell_type": "code",
   "execution_count": null,
   "id": "6814dc60-0ddf-42ae-880c-ee1afb51d947",
   "metadata": {},
   "outputs": [],
   "source": [
    "data_df = data_df[data_df[\"events_sequence\"].apply(lambda row: preprocessing.remove_short_rows(row, x=2))].reset_index(drop=True)\n",
    "data_df.shape"
   ]
  },
  {
   "cell_type": "markdown",
   "id": "573e777a-f282-4de4-9ba3-18188a3bca44",
   "metadata": {},
   "source": [
    "## AC_DC Failure Feature"
   ]
  },
  {
   "cell_type": "code",
   "execution_count": null,
   "id": "70c8fe23-8667-44ab-9195-d5a486db977c",
   "metadata": {},
   "outputs": [],
   "source": [
    "def indicate_ac_dc_prob_timestamp(row):\n",
    "    return (row.iloc[0] == row.iloc[1]).astype(int)\n",
    "\n",
    "def indicate_ac_dc_prob(row):\n",
    "    return (row.iloc[0] == row.iloc[1]).any().astype(int)\n",
    "\n",
    "def indicate_ac_dc_num(row):\n",
    "    return (row.iloc[0] == row.iloc[1]).sum()\n",
    "\n",
    "#def indicate_ac_dc_prob_events(row):\n",
    "#    return row.iloc[2][row.iloc[0] == row.iloc[1]]\n",
    "\n",
    "data_df.insert(1, \"ac_dc_prob_timestamp\", data_df[[\"dj_ac_state_sequence\", \"dj_dc_state_sequence\"]].apply(indicate_ac_dc_prob_timestamp, axis=1))\n",
    "data_df.insert(1, \"ac_dc_prob\", data_df[[\"dj_ac_state_sequence\", \"dj_dc_state_sequence\"]].apply(indicate_ac_dc_prob, axis=1))\n",
    "data_df.insert(1, \"ac_dc_prob_num\", data_df[[\"dj_ac_state_sequence\", \"dj_dc_state_sequence\"]].apply(indicate_ac_dc_num, axis=1))\n",
    "#data_df.insert(1, \"ac_dc_prob_events\", data_df[[\"dj_ac_state_sequence\", \"dj_dc_state_sequence\", \"events_sequence\"]].apply(indicate_ac_dc_prob_events, axis=1))\n",
    "\n",
    "data_df"
   ]
  },
  {
   "cell_type": "markdown",
   "id": "65ea40af-0732-48b4-ade0-6f879a2dc745",
   "metadata": {},
   "source": [
    "## Add hard breaking feature"
   ]
  },
  {
   "cell_type": "code",
   "execution_count": null,
   "id": "ac8a636f-adb4-417f-b902-3b733212a94b",
   "metadata": {},
   "outputs": [],
   "source": [
    "data_df[['hard_braking','description']] = data_df.apply(preprocessing.detect_braking, axis=1)\n",
    "data_df.head(5)"
   ]
  },
  {
   "cell_type": "markdown",
   "id": "0e4a0919-d50a-424a-953e-f5e2c0542111",
   "metadata": {},
   "source": [
    "## Save data to outputs"
   ]
  },
  {
   "cell_type": "code",
   "execution_count": null,
   "id": "d5659e92-6370-46d7-9031-002cdb8acd9c",
   "metadata": {},
   "outputs": [],
   "source": [
    "filepath = posixpath.join(OUTPUT_PATH, \"preprocessed_data.csv\")\n",
    "data.save_data(data_df, filepath)"
   ]
  }
 ],
 "metadata": {
  "kernelspec": {
   "display_name": "Python 3 (ipykernel)",
   "language": "python",
   "name": "python3"
  },
  "language_info": {
   "codemirror_mode": {
    "name": "ipython",
    "version": 3
   },
   "file_extension": ".py",
   "mimetype": "text/x-python",
   "name": "python",
   "nbconvert_exporter": "python",
   "pygments_lexer": "ipython3",
   "version": "3.12.3"
  }
 },
 "nbformat": 4,
 "nbformat_minor": 5
}
