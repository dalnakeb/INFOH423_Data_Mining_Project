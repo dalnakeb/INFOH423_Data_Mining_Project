{
 "cells": [
  {
   "cell_type": "markdown",
   "id": "8aaf8707-0e6e-4189-9f57-ee849abf5ecd",
   "metadata": {},
   "source": [
    "# Model Smith-Waterman "
   ]
  },
  {
   "cell_type": "markdown",
   "id": "29910421-9246-4c0a-9a66-d60b648cbfaa",
   "metadata": {},
   "source": [
    "## Import"
   ]
  },
  {
   "cell_type": "code",
   "execution_count": null,
   "id": "8798d486-8539-46d1-94ab-4f82cd828ee6",
   "metadata": {},
   "outputs": [],
   "source": [
    "import pandas as pd\n",
    "import posixpath\n",
    "from data_mining_project import data, preprocessing, DATA_PATH, OUTPUT_PATH, model_sw, validation\n",
    "import numpy as np\n",
    "import matplotlib as plt\n",
    "\n",
    "%matplotlib inline"
   ]
  },
  {
   "cell_type": "markdown",
   "id": "a746a716-25c7-4a00-a2b2-1db1748bf5d4",
   "metadata": {},
   "source": [
    "## Load Data"
   ]
  },
  {
   "cell_type": "code",
   "execution_count": null,
   "id": "65bf5302-a733-411d-bd3d-572e1b160da4",
   "metadata": {},
   "outputs": [],
   "source": [
    "file_name = \"preprocessed_data.csv\"  \n",
    "file_path = posixpath.join(OUTPUT_PATH, file_name)\n",
    "data_df = data.load_data_csv(file_path)\n",
    "data_df.head(5)"
   ]
  },
  {
   "cell_type": "code",
   "execution_count": null,
   "id": "2080a3a0-7626-4693-a6a0-c90495da6322",
   "metadata": {},
   "outputs": [],
   "source": [
    "data_df.drop(columns=[\"ac_dc_prob_num\", \"ac_dc_prob\", \"seconds_to_incident_sequence\", \"dj_ac_state_sequence\", \"dj_dc_state_sequence\", \"train_kph_sequence\", \"ac_dc_prob_timestamp\", \"hard_braking\", \"description\"], inplace=True)\n",
    "data_df = data.reformat_str_to_list(data_df, cols=[\"events_sequence\"], col_type=int)\n",
    "data_df.head(5)"
   ]
  },
  {
   "cell_type": "markdown",
   "id": "f43de2d3-98b8-4f9e-ba49-5988541d7a33",
   "metadata": {},
   "source": [
    "Code for local alignment"
   ]
  },
  {
   "cell_type": "code",
   "execution_count": null,
   "id": "c12c5b3a-3abc-41ed-84b8-cf5590f4cdab",
   "metadata": {},
   "outputs": [],
   "source": [
    "ts = np.array([i/10 for i in range(13, 20)])\n",
    "f1_scores = []\n",
    "confusion_matrices = []\n",
    "for i, t in enumerate(ts):\n",
    "    filtered_data_df = preprocessing.filter_irrelevant_events(data_df, t)\n",
    "    filtered_data_df = filtered_data_df[filtered_data_df[\"events_sequence\"].apply(lambda row: preprocessing.remove_short_rows(row, x=2))].reset_index(drop=True)\n",
    "    data_str_df = filtered_data_df.copy().apply(lambda x: list(map(str, x)))\n",
    "    XY = filtered_data_df.to_numpy()\n",
    "    X = XY[:, :-1]\n",
    "    Y = XY[:, -1]\n",
    "    print(X.shape, Y.shape)\n",
    "    print(f\"relevance threshold: {t}\")\n",
    "    confusion_matrices.append(model_sw.loo_sw(X, Y))\n",
    "    f1_score, f1_score_per_class = validation.compute_f1_score(confusion_matrices[i]) \n",
    "    print(f\"Average f1_score: {f1_score}\")\n",
    "    f1_scores.append((t, f1_score))\n",
    "    validation.plot_confusion_matrix(confusion_matrices[i], t)\n",
    "\n",
    "f1_scores = np.array(f1_scores)"
   ]
  },
  {
   "cell_type": "markdown",
   "id": "34a008f3-c043-422d-9c92-8d14626b384c",
   "metadata": {},
   "source": [
    "## Plot F1-Scores"
   ]
  },
  {
   "cell_type": "code",
   "execution_count": null,
   "id": "9393b705-45bc-4c11-9620-c20ea0eec542",
   "metadata": {},
   "outputs": [],
   "source": [
    "validation.plot_f1_scores(f1_scores)"
   ]
  }
 ],
 "metadata": {
  "kernelspec": {
   "display_name": "Python 3 (ipykernel)",
   "language": "python",
   "name": "python3"
  },
  "language_info": {
   "codemirror_mode": {
    "name": "ipython",
    "version": 3
   },
   "file_extension": ".py",
   "mimetype": "text/x-python",
   "name": "python",
   "nbconvert_exporter": "python",
   "pygments_lexer": "ipython3",
   "version": "3.12.3"
  }
 },
 "nbformat": 4,
 "nbformat_minor": 5
}
