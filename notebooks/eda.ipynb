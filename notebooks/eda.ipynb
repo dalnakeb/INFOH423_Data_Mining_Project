{
 "cells": [
  {
   "cell_type": "markdown",
   "id": "e3882282-f018-4ee4-b3d2-d43bcbe0a7d3",
   "metadata": {},
   "source": [
    "# Exploratory Data Analysis"
   ]
  },
  {
   "cell_type": "markdown",
   "id": "bc83efe2-eca6-4100-9424-8a4146bfb84e",
   "metadata": {},
   "source": [
    "\n",
    "## Imports"
   ]
  },
  {
   "cell_type": "code",
   "execution_count": 9,
   "id": "6df87f20-bb35-4108-824a-bc358a0e3632",
   "metadata": {},
   "outputs": [],
   "source": [
    "import pandas as pd\n",
    "import posixpath\n",
    "import data\n",
    "import numpy as np\n",
    "DATA_PATH = \"C:\\\\Users\\\\derar\\\\Documents\\\\Data Mining Project\\\\Code\\\\data\""
   ]
  },
  {
   "cell_type": "markdown",
   "id": "d37662cd-8c89-472e-be64-000394ca1855",
   "metadata": {},
   "source": [
    "## Load Data"
   ]
  },
  {
   "cell_type": "code",
   "execution_count": null,
   "id": "e8bca180-2027-4b4e-af5c-b14034d0e1b6",
   "metadata": {},
   "outputs": [],
   "source": [
    "file_name = \"sncb_data_challenge.csv\"  \n",
    "file_path = posixpath.join(DATA_PATH, file_name)\n",
    "data_df = data.load_data_csv(file_path)\n",
    "data_df"
   ]
  },
  {
   "cell_type": "code",
   "execution_count": null,
   "id": "6b5bfc86-4562-4ff7-b9cc-adc2e477f080",
   "metadata": {},
   "outputs": [],
   "source": []
  }
 ],
 "metadata": {
  "kernelspec": {
   "display_name": "Python 3 (ipykernel)",
   "language": "python",
   "name": "python3"
  },
  "language_info": {
   "codemirror_mode": {
    "name": "ipython",
    "version": 3
   },
   "file_extension": ".py",
   "mimetype": "text/x-python",
   "name": "python",
   "nbconvert_exporter": "python",
   "pygments_lexer": "ipython3",
   "version": "3.12.3"
  }
 },
 "nbformat": 4,
 "nbformat_minor": 5
}
